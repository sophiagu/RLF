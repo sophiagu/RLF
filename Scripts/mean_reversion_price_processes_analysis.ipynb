{
  "nbformat": 4,
  "nbformat_minor": 0,
  "metadata": {
    "colab": {
      "name": "mean_reversion_price_processes_analysis.ipynb",
      "provenance": [],
      "collapsed_sections": []
    },
    "kernelspec": {
      "name": "python3",
      "display_name": "Python 3"
    }
  },
  "cells": [
    {
      "cell_type": "code",
      "metadata": {
        "id": "87HYssvJj0LR"
      },
      "source": [
        "import csv\n",
        "import os\n",
        "import numpy as np\n",
        "import pandas as pd\n",
        "import seaborn as sns\n",
        "from scipy.stats import ttest_1samp, ttest_ind\n",
        "from google.colab import drive"
      ],
      "execution_count": 1,
      "outputs": []
    },
    {
      "cell_type": "code",
      "metadata": {
        "colab": {
          "base_uri": "https://localhost:8080/"
        },
        "id": "L3D0aziCkXdu",
        "outputId": "36a8eb97-7984-409c-ac01-3f162398f3ad"
      },
      "source": [
        "drive.mount('/content/gdrive')\n",
        "os.chdir('/content/gdrive/My Drive/RL_Project/Analysis')"
      ],
      "execution_count": 2,
      "outputs": [
        {
          "output_type": "stream",
          "text": [
            "Mounted at /content/gdrive\n"
          ],
          "name": "stdout"
        }
      ]
    },
    {
      "cell_type": "code",
      "metadata": {
        "id": "0e56t5sJ58va"
      },
      "source": [
        "N = 10_000"
      ],
      "execution_count": 3,
      "outputs": []
    },
    {
      "cell_type": "markdown",
      "metadata": {
        "id": "-jYt5CahpaBp"
      },
      "source": [
        "### OU"
      ]
    },
    {
      "cell_type": "code",
      "metadata": {
        "id": "4NFN5V5Zknn4"
      },
      "source": [
        "df1 = pd.read_csv(\"results1.csv\", names=['total_pnl', 'sharpe_ratio'])\n",
        "df1 = df1.iloc[0:N]"
      ],
      "execution_count": 4,
      "outputs": []
    },
    {
      "cell_type": "code",
      "metadata": {
        "id": "FjY1GotIlbFN"
      },
      "source": [
        "total_pnls1 = pd.to_numeric(df1.total_pnl.to_list())\n",
        "sharpe_ratios1 = pd.to_numeric(df1.sharpe_ratio.to_list())"
      ],
      "execution_count": 6,
      "outputs": []
    },
    {
      "cell_type": "code",
      "metadata": {
        "colab": {
          "base_uri": "https://localhost:8080/"
        },
        "id": "naaCyDuekxn9",
        "outputId": "8d7d50c1-b8c3-4687-a4b9-563b6283fae2"
      },
      "source": [
        "mean_sr1 = np.mean(sharpe_ratios1)\n",
        "mean_sr1"
      ],
      "execution_count": 7,
      "outputs": [
        {
          "output_type": "execute_result",
          "data": {
            "text/plain": [
              "2.104448885757913"
            ]
          },
          "metadata": {
            "tags": []
          },
          "execution_count": 7
        }
      ]
    },
    {
      "cell_type": "code",
      "metadata": {
        "colab": {
          "base_uri": "https://localhost:8080/"
        },
        "id": "GVtq5xboiUCe",
        "outputId": "93262d66-9d83-4e75-e9c4-a41ff43a626e"
      },
      "source": [
        "np.std(sharpe_ratios1)"
      ],
      "execution_count": 8,
      "outputs": [
        {
          "output_type": "execute_result",
          "data": {
            "text/plain": [
              "0.3751529820672947"
            ]
          },
          "metadata": {
            "tags": []
          },
          "execution_count": 8
        }
      ]
    },
    {
      "cell_type": "code",
      "metadata": {
        "colab": {
          "base_uri": "https://localhost:8080/",
          "height": 336
        },
        "id": "C9ItTQj5oUME",
        "outputId": "f3116f30-ab2a-4570-ba66-64d85d970603"
      },
      "source": [
        "sns.distplot(sharpe_ratios1, hist=False, kde=True, \n",
        "             bins=1000, color = 'darkblue', \n",
        "             hist_kws={'edgecolor':'black'})"
      ],
      "execution_count": 9,
      "outputs": [
        {
          "output_type": "stream",
          "text": [
            "/usr/local/lib/python3.6/dist-packages/seaborn/distributions.py:2551: FutureWarning: `distplot` is a deprecated function and will be removed in a future version. Please adapt your code to use either `displot` (a figure-level function with similar flexibility) or `kdeplot` (an axes-level function for kernel density plots).\n",
            "  warnings.warn(msg, FutureWarning)\n"
          ],
          "name": "stderr"
        },
        {
          "output_type": "execute_result",
          "data": {
            "text/plain": [
              "<matplotlib.axes._subplots.AxesSubplot at 0x7f60c0b78c88>"
            ]
          },
          "metadata": {
            "tags": []
          },
          "execution_count": 9
        },
        {
          "output_type": "display_data",
          "data": {
            "image/png": "[encoded data removed]",
            "text/plain": [
              "<Figure size 432x288 with 1 Axes>"
            ]
          },
          "metadata": {
            "tags": [],
            "needs_background": "light"
          }
        }
      ]
    },
    {
      "cell_type": "code",
      "metadata": {
        "colab": {
          "base_uri": "https://localhost:8080/"
        },
        "id": "888z_zGOsXhX",
        "outputId": "6e85be35-5fbc-4f11-f5f3-c23222595f8a"
      },
      "source": [
        "# 1-sample t-test\n",
        "ttest_1samp(sharpe_ratios1, popmean=2.07)"
      ],
      "execution_count": 10,
      "outputs": [
        {
          "output_type": "execute_result",
          "data": {
            "text/plain": [
              "Ttest_1sampResult(statistic=9.18216432153611, pvalue=5.0630175511543423e-20)"
            ]
          },
          "metadata": {
            "tags": []
          },
          "execution_count": 10
        }
      ]
    },
    {
      "cell_type": "markdown",
      "metadata": {
        "id": "jirFpb9mki-0"
      },
      "source": [
        "Large t-statistic and extremely small p-value -> great evidence against the null."
      ]
    },
    {
      "cell_type": "markdown",
      "metadata": {
        "id": "qTFJ4rYspS-a"
      },
      "source": [
        "### OU with monotonic decreasing function property"
      ]
    },
    {
      "cell_type": "code",
      "metadata": {
        "id": "PUj3k3CRpEx7"
      },
      "source": [
        "df2 = pd.read_csv(\"results2.csv\", names=['total_pnl', 'sharpe_ratio'])\n",
        "df2 = df2.iloc[0:N]"
      ],
      "execution_count": 11,
      "outputs": []
    },
    {
      "cell_type": "code",
      "metadata": {
        "id": "0_F4Src4pnFz"
      },
      "source": [
        "total_pnls2 = pd.to_numeric(df2.total_pnl.to_list())\n",
        "sharpe_ratios2 = pd.to_numeric(df2.sharpe_ratio.to_list())"
      ],
      "execution_count": 13,
      "outputs": []
    },
    {
      "cell_type": "code",
      "metadata": {
        "colab": {
          "base_uri": "https://localhost:8080/"
        },
        "id": "9ps880mVqHoc",
        "outputId": "f3ad6cce-71df-4e0d-87af-d43b173296b2"
      },
      "source": [
        "mean_sr2 = np.mean(sharpe_ratios2)\n",
        "mean_sr2"
      ],
      "execution_count": 14,
      "outputs": [
        {
          "output_type": "execute_result",
          "data": {
            "text/plain": [
              "2.780340728121234"
            ]
          },
          "metadata": {
            "tags": []
          },
          "execution_count": 14
        }
      ]
    },
    {
      "cell_type": "code",
      "metadata": {
        "colab": {
          "base_uri": "https://localhost:8080/"
        },
        "id": "BsX6e5egias4",
        "outputId": "24df0e93-a772-4a48-e79d-96913c692a25"
      },
      "source": [
        "np.std(sharpe_ratios2)"
      ],
      "execution_count": 15,
      "outputs": [
        {
          "output_type": "execute_result",
          "data": {
            "text/plain": [
              "0.3293586452633325"
            ]
          },
          "metadata": {
            "tags": []
          },
          "execution_count": 15
        }
      ]
    },
    {
      "cell_type": "code",
      "metadata": {
        "colab": {
          "base_uri": "https://localhost:8080/",
          "height": 336
        },
        "id": "QlmvzAdCpzR_",
        "outputId": "766989ae-ea14-41e3-8d96-e99685d7ec57"
      },
      "source": [
        "sns.distplot(sharpe_ratios2, hist=False, kde=True, \n",
        "             bins=1000, color = 'darkblue', \n",
        "             hist_kws={'edgecolor':'black'})"
      ],
      "execution_count": 16,
      "outputs": [
        {
          "output_type": "stream",
          "text": [
            "/usr/local/lib/python3.6/dist-packages/seaborn/distributions.py:2551: FutureWarning: `distplot` is a deprecated function and will be removed in a future version. Please adapt your code to use either `displot` (a figure-level function with similar flexibility) or `kdeplot` (an axes-level function for kernel density plots).\n",
            "  warnings.warn(msg, FutureWarning)\n"
          ],
          "name": "stderr"
        },
        {
          "output_type": "execute_result",
          "data": {
            "text/plain": [
              "<matplotlib.axes._subplots.AxesSubplot at 0x7f60bf7eb710>"
            ]
          },
          "metadata": {
            "tags": []
          },
          "execution_count": 16
        },
        {
          "output_type": "display_data",
          "data": {
            "image/png": "[encoded data removed]",
            "text/plain": [
              "<Figure size 432x288 with 1 Axes>"
            ]
          },
          "metadata": {
            "tags": [],
            "needs_background": "light"
          }
        }
      ]
    },
    {
      "cell_type": "code",
      "metadata": {
        "colab": {
          "base_uri": "https://localhost:8080/"
        },
        "id": "Spgk7XGerTMI",
        "outputId": "c6278764-50cf-4045-8d13-e2b481e767d4"
      },
      "source": [
        "# 2-sample t-test\n",
        "ttest_ind(sharpe_ratios2, sharpe_ratios1, equal_var=False)"
      ],
      "execution_count": 17,
      "outputs": [
        {
          "output_type": "execute_result",
          "data": {
            "text/plain": [
              "Ttest_indResult(statistic=135.38382002486517, pvalue=0.0)"
            ]
          },
          "metadata": {
            "tags": []
          },
          "execution_count": 17
        }
      ]
    },
    {
      "cell_type": "markdown",
      "metadata": {
        "id": "TybiKDYlZdzI"
      },
      "source": [
        "Large t-statistic -> significant evidence against the null."
      ]
    },
    {
      "cell_type": "markdown",
      "metadata": {
        "id": "9HRctPa2jKs9"
      },
      "source": [
        "### ARMA(2,1)"
      ]
    },
    {
      "cell_type": "code",
      "metadata": {
        "id": "7qDFs2FAjOvx"
      },
      "source": [
        "df3 = pd.read_csv(\"results3.csv\", delim_whitespace=True, names=['sharpe_ratio', 'total_pnl'])\n",
        "df3 = df3.iloc[0:N]"
      ],
      "execution_count": 18,
      "outputs": []
    },
    {
      "cell_type": "code",
      "metadata": {
        "id": "vKL94QvQeYHw"
      },
      "source": [
        "total_pnls3 = pd.to_numeric(df3.total_pnl.to_list())\n",
        "sharpe_ratios3 = pd.to_numeric(df3.sharpe_ratio.to_list())"
      ],
      "execution_count": 20,
      "outputs": []
    },
    {
      "cell_type": "code",
      "metadata": {
        "colab": {
          "base_uri": "https://localhost:8080/"
        },
        "id": "LpBZWv1ZefEp",
        "outputId": "a5961001-298a-410c-8622-ac87e215b89e"
      },
      "source": [
        "mean_sr3 = np.mean(sharpe_ratios3)\n",
        "mean_sr3"
      ],
      "execution_count": 21,
      "outputs": [
        {
          "output_type": "execute_result",
          "data": {
            "text/plain": [
              "2.4583264702256145"
            ]
          },
          "metadata": {
            "tags": []
          },
          "execution_count": 21
        }
      ]
    },
    {
      "cell_type": "code",
      "metadata": {
        "colab": {
          "base_uri": "https://localhost:8080/"
        },
        "id": "PMm-AH-CesT0",
        "outputId": "d6c6e021-6860-4073-bd7d-88abd64612d8"
      },
      "source": [
        "np.std(sharpe_ratios3)"
      ],
      "execution_count": 22,
      "outputs": [
        {
          "output_type": "execute_result",
          "data": {
            "text/plain": [
              "0.47916810282724637"
            ]
          },
          "metadata": {
            "tags": []
          },
          "execution_count": 22
        }
      ]
    },
    {
      "cell_type": "code",
      "metadata": {
        "colab": {
          "base_uri": "https://localhost:8080/",
          "height": 336
        },
        "id": "2XUqw8hDex4g",
        "outputId": "cbcf6630-a549-48ca-de6a-a4c74b4eb481"
      },
      "source": [
        "sns.distplot(sharpe_ratios3, hist=False, kde=True, \n",
        "             bins=1000, color = 'darkblue', \n",
        "             hist_kws={'edgecolor':'black'})"
      ],
      "execution_count": 23,
      "outputs": [
        {
          "output_type": "stream",
          "text": [
            "/usr/local/lib/python3.6/dist-packages/seaborn/distributions.py:2551: FutureWarning: `distplot` is a deprecated function and will be removed in a future version. Please adapt your code to use either `displot` (a figure-level function with similar flexibility) or `kdeplot` (an axes-level function for kernel density plots).\n",
            "  warnings.warn(msg, FutureWarning)\n"
          ],
          "name": "stderr"
        },
        {
          "output_type": "execute_result",
          "data": {
            "text/plain": [
              "<matplotlib.axes._subplots.AxesSubplot at 0x7f60c13a4978>"
            ]
          },
          "metadata": {
            "tags": []
          },
          "execution_count": 23
        },
        {
          "output_type": "display_data",
          "data": {
            "image/png": "[encoded data removed]",
            "text/plain": [
              "<Figure size 432x288 with 1 Axes>"
            ]
          },
          "metadata": {
            "tags": [],
            "needs_background": "light"
          }
        }
      ]
    },
    {
      "cell_type": "markdown",
      "metadata": {
        "id": "YP_Vip0n5s8h"
      },
      "source": [
        "### ARMA(2,1) with monotonic decreasing function property"
      ]
    },
    {
      "cell_type": "code",
      "metadata": {
        "id": "xoJCxZyn5_iS"
      },
      "source": [
        "df4 = pd.read_csv(\"results4.csv\", names=['total_pnl', 'sharpe_ratio'])\n",
        "df4 = df4.iloc[0:N]"
      ],
      "execution_count": 24,
      "outputs": []
    },
    {
      "cell_type": "code",
      "metadata": {
        "id": "9a5L3mrC6Kon"
      },
      "source": [
        "total_pnls4 = pd.to_numeric(df4.total_pnl.to_list())\n",
        "sharpe_ratios4 = pd.to_numeric(df4.sharpe_ratio.to_list())"
      ],
      "execution_count": 26,
      "outputs": []
    },
    {
      "cell_type": "code",
      "metadata": {
        "colab": {
          "base_uri": "https://localhost:8080/"
        },
        "id": "NQ3Ti1CJ6RyS",
        "outputId": "4c948fbf-8087-451b-97a8-38fd28ba6092"
      },
      "source": [
        "mean_sr4 = np.mean(sharpe_ratios4)\n",
        "mean_sr4"
      ],
      "execution_count": 27,
      "outputs": [
        {
          "output_type": "execute_result",
          "data": {
            "text/plain": [
              "3.2234273679989935"
            ]
          },
          "metadata": {
            "tags": []
          },
          "execution_count": 27
        }
      ]
    },
    {
      "cell_type": "code",
      "metadata": {
        "colab": {
          "base_uri": "https://localhost:8080/"
        },
        "id": "DljMWbd2ilu_",
        "outputId": "b07956e0-5fd7-48a1-e491-83606b42379c"
      },
      "source": [
        "np.std(sharpe_ratios4)"
      ],
      "execution_count": 28,
      "outputs": [
        {
          "output_type": "execute_result",
          "data": {
            "text/plain": [
              "0.268041003263602"
            ]
          },
          "metadata": {
            "tags": []
          },
          "execution_count": 28
        }
      ]
    },
    {
      "cell_type": "code",
      "metadata": {
        "colab": {
          "base_uri": "https://localhost:8080/",
          "height": 336
        },
        "id": "Ea7olbSt6XY-",
        "outputId": "781c4594-6cb3-4884-85d0-6824b542eeb6"
      },
      "source": [
        "sns.distplot(sharpe_ratios4, hist=False, kde=True, \n",
        "             bins=1000, color = 'darkblue', \n",
        "             hist_kws={'edgecolor':'black'})"
      ],
      "execution_count": 29,
      "outputs": [
        {
          "output_type": "stream",
          "text": [
            "/usr/local/lib/python3.6/dist-packages/seaborn/distributions.py:2551: FutureWarning: `distplot` is a deprecated function and will be removed in a future version. Please adapt your code to use either `displot` (a figure-level function with similar flexibility) or `kdeplot` (an axes-level function for kernel density plots).\n",
            "  warnings.warn(msg, FutureWarning)\n"
          ],
          "name": "stderr"
        },
        {
          "output_type": "execute_result",
          "data": {
            "text/plain": [
              "<matplotlib.axes._subplots.AxesSubplot at 0x7f60bf1c1438>"
            ]
          },
          "metadata": {
            "tags": []
          },
          "execution_count": 29
        },
        {
          "output_type": "display_data",
          "data": {
            "image/png": "[encoded data removed]",
            "text/plain": [
              "<Figure size 432x288 with 1 Axes>"
            ]
          },
          "metadata": {
            "tags": [],
            "needs_background": "light"
          }
        }
      ]
    },
    {
      "cell_type": "code",
      "metadata": {
        "colab": {
          "base_uri": "https://localhost:8080/"
        },
        "id": "HHu9IQ5v6icN",
        "outputId": "ab12067a-9dca-4a95-a4cc-2cf4ee77bacf"
      },
      "source": [
        "# 2-sample t-test\n",
        "ttest_ind(sharpe_ratios4, sharpe_ratios3, equal_var=False)"
      ],
      "execution_count": 30,
      "outputs": [
        {
          "output_type": "execute_result",
          "data": {
            "text/plain": [
              "Ttest_indResult(statistic=139.34479666987843, pvalue=0.0)"
            ]
          },
          "metadata": {
            "tags": []
          },
          "execution_count": 30
        }
      ]
    },
    {
      "cell_type": "markdown",
      "metadata": {
        "id": "bWtO3aYwZkON"
      },
      "source": [
        "Large t-statistic -> significant evidence against the null."
      ]
    }
  ]
}